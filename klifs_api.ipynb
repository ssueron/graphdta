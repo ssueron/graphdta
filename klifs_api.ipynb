{
 "cells": [
  {
   "cell_type": "code",
   "execution_count": 2,
   "id": "3a3d563b",
   "metadata": {},
   "outputs": [
    {
     "name": "stdout",
     "output_type": "stream",
     "text": [
      "/Users/sebastien/miniforge3/envs/klifs/bin/python\n"
     ]
    }
   ],
   "source": [
    "import sys; print(sys.executable)"
   ]
  },
  {
   "cell_type": "code",
   "execution_count": null,
   "id": "e88e9dc1",
   "metadata": {},
   "outputs": [],
   "source": []
  },
  {
   "cell_type": "code",
   "execution_count": 3,
   "id": "59f8b645",
   "metadata": {},
   "outputs": [
    {
     "ename": "AttributeError",
     "evalue": "Resource kinases not found. Available resources: Information, Interactions, Ligands, Structures",
     "output_type": "error",
     "traceback": [
      "\u001b[31m---------------------------------------------------------------------------\u001b[39m",
      "\u001b[31mAttributeError\u001b[39m                            Traceback (most recent call last)",
      "\u001b[36mCell\u001b[39m\u001b[36m \u001b[39m\u001b[32mIn[3]\u001b[39m\u001b[32m, line 12\u001b[39m\n\u001b[32m      5\u001b[39m client = SwaggerClient.from_url(\n\u001b[32m      6\u001b[39m     \u001b[33m\"\u001b[39m\u001b[33mhttps://klifs.net/swagger_v2/swagger.json\u001b[39m\u001b[33m\"\u001b[39m,\n\u001b[32m      7\u001b[39m     http_client=http,\n\u001b[32m      8\u001b[39m     config={\u001b[33m\"\u001b[39m\u001b[33malso_return_response\u001b[39m\u001b[33m\"\u001b[39m: \u001b[38;5;28;01mFalse\u001b[39;00m}\n\u001b[32m      9\u001b[39m )\n\u001b[32m     11\u001b[39m \u001b[38;5;66;03m# Quick call: list AURKB\u001b[39;00m\n\u001b[32m---> \u001b[39m\u001b[32m12\u001b[39m kinases = \u001b[43mclient\u001b[49m\u001b[43m.\u001b[49m\u001b[43mkinases\u001b[49m.get_kinases_list(kinase_name=\u001b[33m\"\u001b[39m\u001b[33mAURKB\u001b[39m\u001b[33m\"\u001b[39m, species=\u001b[33m\"\u001b[39m\u001b[33mHuman\u001b[39m\u001b[33m\"\u001b[39m).result()\n\u001b[32m     13\u001b[39m \u001b[38;5;28mprint\u001b[39m(kinases[\u001b[32m0\u001b[39m][\u001b[33m\"\u001b[39m\u001b[33mkinase.klifs_id\u001b[39m\u001b[33m\"\u001b[39m], kinases[\u001b[32m0\u001b[39m][\u001b[33m\"\u001b[39m\u001b[33mkinase.name\u001b[39m\u001b[33m\"\u001b[39m])\n",
      "\u001b[36mFile \u001b[39m\u001b[32m~/miniforge3/envs/klifs/lib/python3.11/site-packages/bravado/client.py:170\u001b[39m, in \u001b[36mSwaggerClient.__getattr__\u001b[39m\u001b[34m(self, item)\u001b[39m\n\u001b[32m    169\u001b[39m \u001b[38;5;28;01mdef\u001b[39;00m\u001b[38;5;250m \u001b[39m\u001b[34m__getattr__\u001b[39m(\u001b[38;5;28mself\u001b[39m, item):\n\u001b[32m--> \u001b[39m\u001b[32m170\u001b[39m     \u001b[38;5;28;01mreturn\u001b[39;00m \u001b[38;5;28;43mself\u001b[39;49m\u001b[43m.\u001b[49m\u001b[43m_get_resource\u001b[49m\u001b[43m(\u001b[49m\u001b[43mitem\u001b[49m\u001b[43m)\u001b[49m\n",
      "\u001b[36mFile \u001b[39m\u001b[32m~/miniforge3/envs/klifs/lib/python3.11/site-packages/bravado/client.py:150\u001b[39m, in \u001b[36mSwaggerClient._get_resource\u001b[39m\u001b[34m(self, item)\u001b[39m\n\u001b[32m    148\u001b[39m resource = \u001b[38;5;28mself\u001b[39m.swagger_spec.resources.get(item)\n\u001b[32m    149\u001b[39m \u001b[38;5;28;01mif\u001b[39;00m \u001b[38;5;129;01mnot\u001b[39;00m resource:\n\u001b[32m--> \u001b[39m\u001b[32m150\u001b[39m     \u001b[38;5;28;01mraise\u001b[39;00m \u001b[38;5;167;01mAttributeError\u001b[39;00m(\n\u001b[32m    151\u001b[39m         \u001b[33m'\u001b[39m\u001b[33mResource \u001b[39m\u001b[38;5;132;01m{0}\u001b[39;00m\u001b[33m not found. Available resources: \u001b[39m\u001b[38;5;132;01m{1}\u001b[39;00m\u001b[33m'\u001b[39m\n\u001b[32m    152\u001b[39m         .format(item, \u001b[33m'\u001b[39m\u001b[33m, \u001b[39m\u001b[33m'\u001b[39m.join(\u001b[38;5;28mdir\u001b[39m(\u001b[38;5;28mself\u001b[39m))))\n\u001b[32m    154\u001b[39m \u001b[38;5;66;03m# Wrap bravado-core's Resource and Operation objects in order to\u001b[39;00m\n\u001b[32m    155\u001b[39m \u001b[38;5;66;03m# execute a service call via the http_client.\u001b[39;00m\n\u001b[32m    156\u001b[39m \u001b[38;5;28;01mreturn\u001b[39;00m ResourceDecorator(resource, \u001b[38;5;28mself\u001b[39m.__also_return_response)\n",
      "\u001b[31mAttributeError\u001b[39m: Resource kinases not found. Available resources: Information, Interactions, Ligands, Structures"
     ]
    }
   ],
   "source": [
    "from bravado.client import SwaggerClient\n",
    "from bravado.requests_client import RequestsClient\n",
    "\n",
    "http = RequestsClient()\n",
    "client = SwaggerClient.from_url(\n",
    "    \"https://klifs.net/swagger_v2/swagger.json\",\n",
    "    http_client=http,\n",
    "    config={\"also_return_response\": False}\n",
    ")\n",
    "\n",
    "# Quick call: list AURKB\n",
    "kinases = client.kinases.get_kinases_list(kinase_name=\"AURKB\", species=\"Human\").result()\n",
    "print(kinases[0][\"kinase.klifs_id\"], kinases[0][\"kinase.name\"])"
   ]
  },
  {
   "cell_type": "code",
   "execution_count": 4,
   "id": "b1d0ab58",
   "metadata": {},
   "outputs": [
    {
     "name": "stdout",
     "output_type": "stream",
     "text": [
      "Python: 3.11.13 | packaged by conda-forge | (main, Jun  4 2025, 14:52:34) [Clang 18.1.8 ]\n",
      "Executable: /Users/sebastien/miniforge3/envs/klifs/bin/python\n",
      "Have importlib_resources? True\n",
      "Name: bravado\n",
      "Version: 11.0.3\n",
      "Summary: Library for accessing Swagger-enabled API's\n",
      "Home-page: https://github.com/Yelp/bravado\n",
      "Author: Digium, Inc. and Yelp, Inc.\n",
      "Author-email: opensource+bravado@yelp.com\n",
      "License: BSD 3-Clause License\n",
      "Location: /Users/sebastien/miniforge3/envs/klifs/lib/python3.11/site-packages\n",
      "Requires: bravado-core, monotonic, msgpack, python-dateutil, pyyaml, requests, simplejson, six, typing-extensions\n",
      "Required-by: \n",
      "Name: swagger-spec-validator\n",
      "Version: 3.0.4\n",
      "Summary: Validation of Swagger specifications\n",
      "Home-page: http://github.com/Yelp/swagger_spec_validator\n",
      "Author: Yelp\n",
      "Author-email: core-services@yelp.com\n",
      "License: Apache License, Version 2.0\n",
      "Location: /Users/sebastien/miniforge3/envs/klifs/lib/python3.11/site-packages\n",
      "Requires: importlib-resources, jsonschema, pyyaml, typing-extensions\n",
      "Required-by: bravado-core\n",
      "Name: importlib_resources\n",
      "Version: 6.5.2\n",
      "Summary: Read resources from Python packages\n",
      "Home-page: \n",
      "Author: \n",
      "Author-email: Barry Warsaw <barry@python.org>\n",
      "License: \n",
      "Location: /Users/sebastien/miniforge3/envs/klifs/lib/python3.11/site-packages\n",
      "Requires: \n",
      "Required-by: swagger-spec-validator\n"
     ]
    },
    {
     "data": {
      "text/plain": [
       "CompletedProcess(args=['/Users/sebastien/miniforge3/envs/klifs/bin/python', '-m', 'pip', 'show', 'importlib_resources'], returncode=0)"
      ]
     },
     "execution_count": 4,
     "metadata": {},
     "output_type": "execute_result"
    }
   ],
   "source": [
    "import sys, pkgutil\n",
    "print(\"Python:\", sys.version)\n",
    "print(\"Executable:\", sys.executable)\n",
    "print(\"Have importlib_resources?\", \"importlib_resources\" in {m.name for m in pkgutil.iter_modules()})\n",
    "\n",
    "import subprocess\n",
    "subprocess.run([sys.executable, \"-m\", \"pip\", \"show\", \"bravado\"])\n",
    "subprocess.run([sys.executable, \"-m\", \"pip\", \"show\", \"swagger-spec-validator\"])\n",
    "subprocess.run([sys.executable, \"-m\", \"pip\", \"show\", \"importlib_resources\"])"
   ]
  },
  {
   "cell_type": "code",
   "execution_count": 13,
   "id": "065231fa",
   "metadata": {},
   "outputs": [
    {
     "name": "stdout",
     "output_type": "stream",
     "text": [
      "AURKB: 1 pocket strings found.\n",
      "status\n",
      "unresolved-in-some-structures    85\n",
      "Name: count, dtype: int64\n",
      "True deletions at KLIFS positions: []\n",
      "BUB1: 7 pocket strings found.\n",
      "status\n",
      "unresolved-in-some-structures    85\n",
      "Name: count, dtype: int64\n",
      "True deletions at KLIFS positions: []\n"
     ]
    }
   ],
   "source": [
    "from bravado.client import SwaggerClient\n",
    "from bravado.requests_client import RequestsClient\n",
    "import pandas as pd\n",
    "import numpy as np\n",
    "\n",
    "# --- client (validation off) ---\n",
    "http = RequestsClient()\n",
    "client = SwaggerClient.from_url(\n",
    "    \"https://klifs.net/swagger_v2/swagger.json\",\n",
    "    http_client=http,\n",
    "    config={\n",
    "        \"also_return_response\": False,\n",
    "        \"validate_swagger_spec\": False,\n",
    "        \"validate_responses\": False,\n",
    "        \"validate_requests\": False,\n",
    "        \"use_models\": False,\n",
    "    },\n",
    ")\n",
    "\n",
    "# --- ops we will use ---\n",
    "kinase_id_op       = client.Information.get_kinase_ID\n",
    "structures_list_op = client.Structures.get_structures_list\n",
    "\n",
    "def call_autolist(op, **kwargs):\n",
    "    specs = {p[\"name\"]: p for p in op.operation.op_spec.get(\"parameters\", [])}\n",
    "    fixed = {}\n",
    "    for k, v in kwargs.items():\n",
    "        p = specs.get(k)\n",
    "        ptype = p.get(\"type\") if p else None\n",
    "        if not ptype and p and isinstance(p.get(\"schema\"), dict):\n",
    "            ptype = p[\"schema\"].get(\"type\")\n",
    "        if ptype == \"array\" and not isinstance(v, (list, tuple)):\n",
    "            v = [v]\n",
    "        fixed[k] = v\n",
    "    return op(**fixed).result()\n",
    "\n",
    "def kinase_id(kinase_name, species=\"Human\"):\n",
    "    rows = call_autolist(kinase_id_op, kinase_name=kinase_name, species=species)\n",
    "    df = pd.DataFrame(rows)\n",
    "    for col in (\"kinase.klifs_id\",\"kinase_ID\",\"kinase.id\",\"kinase.klifs_ID\"):\n",
    "        if col in df.columns:\n",
    "            return int(df.iloc[0][col])\n",
    "    id_like = [c for c in df.columns if \"klifs\" in c.lower() and \"id\" in c.lower()]\n",
    "    return int(df.iloc[0][id_like[0]])\n",
    "\n",
    "def structures_for_kinase(kid):\n",
    "    rows = call_autolist(structures_list_op, kinase_ID=int(kid))\n",
    "    return pd.DataFrame(rows)\n",
    "\n",
    "def classify_from_pocket_strings(pocket_strings):\n",
    "    \"\"\"\n",
    "    pocket_strings: list of 85-aa pocket strings (with '-' where absent in that structure)\n",
    "    Returns: pandas Series indexed 1..85 with 'deletion/short-loop' or 'unresolved-in-some-structures'\n",
    "    \"\"\"\n",
    "    # keep only valid 85-length strings\n",
    "    seqs = [s for s in pocket_strings if isinstance(s, str) and len(s) == 85]\n",
    "    if not seqs:\n",
    "        raise ValueError(\"No valid 85-aa pocket strings found for this kinase.\")\n",
    "\n",
    "    # presence matrix: rows = 85 positions, cols = structures (True=present)\n",
    "    M = np.column_stack([[c != \"-\" for c in s] for s in seqs])\n",
    "    # deletion if absent in ALL structures at that position\n",
    "    status = np.where(M.any(axis=1), \"unresolved-in-some-structures\", \"deletion/short-loop\")\n",
    "    return pd.Series(status, index=pd.RangeIndex(1, 86), name=\"status\")\n",
    "\n",
    "# -------- run for your kinases --------\n",
    "for kinase in [\"AURKB\", \"BUB1\"]:\n",
    "    kid = kinase_id(kinase, species=\"Human\")\n",
    "    S = structures_for_kinase(kid)\n",
    "    # your server provides the 85-aa pocket in S['pocket']\n",
    "    pockets = S[\"pocket\"].dropna().tolist()\n",
    "    print(f\"{kinase}: {len(pockets)} pocket strings found.\")\n",
    "    status = classify_from_pocket_strings(pockets)\n",
    "    print(status.value_counts())\n",
    "    deletions = sorted(status[status==\"deletion/short-loop\"].index.tolist())\n",
    "    print(\"True deletions at KLIFS positions:\", deletions)\n",
    "\n",
    "\n",
    "\n"
   ]
  }
 ],
 "metadata": {
  "kernelspec": {
   "display_name": "klifs",
   "language": "python",
   "name": "python3"
  },
  "language_info": {
   "codemirror_mode": {
    "name": "ipython",
    "version": 3
   },
   "file_extension": ".py",
   "mimetype": "text/x-python",
   "name": "python",
   "nbconvert_exporter": "python",
   "pygments_lexer": "ipython3",
   "version": "3.11.13"
  }
 },
 "nbformat": 4,
 "nbformat_minor": 5
}
